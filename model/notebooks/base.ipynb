{
 "cells": [
  {
   "cell_type": "code",
   "execution_count": 13,
   "metadata": {},
   "outputs": [],
   "source": [
    "# 1. Import necessary libraries\n",
    "\n",
    "import pandas as pd\n",
    "import numpy as np\n",
    "from scipy.sparse import csr_matrix\n",
    "from sklearn.metrics.pairwise import cosine_similarity\n"
   ]
  },
  {
   "cell_type": "code",
   "execution_count": 14,
   "metadata": {},
   "outputs": [
    {
     "name": "stderr",
     "output_type": "stream",
     "text": [
      "/var/folders/wn/y0pb2sm10lvg7s176rdg7yg80000gn/T/ipykernel_4522/2184597282.py:4: DtypeWarning: Columns (3) have mixed types. Specify dtype option on import or set low_memory=False.\n",
      "  books_df = pd.read_csv('../data/books.csv')\n"
     ]
    }
   ],
   "source": [
    "# 2. Load datasets\n",
    "\n",
    "ratings_df = pd.read_csv('../data/ratings.csv')\n",
    "books_df = pd.read_csv('../data/books.csv')\n",
    "users_df = pd.read_csv('../data/users.csv')"
   ]
  },
  {
   "cell_type": "code",
   "execution_count": 15,
   "metadata": {},
   "outputs": [
    {
     "data": {
      "text/html": [
       "<div>\n",
       "<style scoped>\n",
       "    .dataframe tbody tr th:only-of-type {\n",
       "        vertical-align: middle;\n",
       "    }\n",
       "\n",
       "    .dataframe tbody tr th {\n",
       "        vertical-align: top;\n",
       "    }\n",
       "\n",
       "    .dataframe thead th {\n",
       "        text-align: right;\n",
       "    }\n",
       "</style>\n",
       "<table border=\"1\" class=\"dataframe\">\n",
       "  <thead>\n",
       "    <tr style=\"text-align: right;\">\n",
       "      <th></th>\n",
       "      <th>User-ID</th>\n",
       "      <th>Location</th>\n",
       "      <th>Age</th>\n",
       "    </tr>\n",
       "  </thead>\n",
       "  <tbody>\n",
       "    <tr>\n",
       "      <th>0</th>\n",
       "      <td>1</td>\n",
       "      <td>nyc, new york, usa</td>\n",
       "      <td>NaN</td>\n",
       "    </tr>\n",
       "    <tr>\n",
       "      <th>1</th>\n",
       "      <td>2</td>\n",
       "      <td>stockton, california, usa</td>\n",
       "      <td>18.0</td>\n",
       "    </tr>\n",
       "    <tr>\n",
       "      <th>2</th>\n",
       "      <td>3</td>\n",
       "      <td>moscow, yukon territory, russia</td>\n",
       "      <td>NaN</td>\n",
       "    </tr>\n",
       "    <tr>\n",
       "      <th>3</th>\n",
       "      <td>4</td>\n",
       "      <td>porto, v.n.gaia, portugal</td>\n",
       "      <td>17.0</td>\n",
       "    </tr>\n",
       "    <tr>\n",
       "      <th>4</th>\n",
       "      <td>5</td>\n",
       "      <td>farnborough, hants, united kingdom</td>\n",
       "      <td>NaN</td>\n",
       "    </tr>\n",
       "    <tr>\n",
       "      <th>...</th>\n",
       "      <td>...</td>\n",
       "      <td>...</td>\n",
       "      <td>...</td>\n",
       "    </tr>\n",
       "    <tr>\n",
       "      <th>278853</th>\n",
       "      <td>278854</td>\n",
       "      <td>portland, oregon, usa</td>\n",
       "      <td>NaN</td>\n",
       "    </tr>\n",
       "    <tr>\n",
       "      <th>278854</th>\n",
       "      <td>278855</td>\n",
       "      <td>tacoma, washington, united kingdom</td>\n",
       "      <td>50.0</td>\n",
       "    </tr>\n",
       "    <tr>\n",
       "      <th>278855</th>\n",
       "      <td>278856</td>\n",
       "      <td>brampton, ontario, canada</td>\n",
       "      <td>NaN</td>\n",
       "    </tr>\n",
       "    <tr>\n",
       "      <th>278856</th>\n",
       "      <td>278857</td>\n",
       "      <td>knoxville, tennessee, usa</td>\n",
       "      <td>NaN</td>\n",
       "    </tr>\n",
       "    <tr>\n",
       "      <th>278857</th>\n",
       "      <td>278858</td>\n",
       "      <td>dublin, n/a, ireland</td>\n",
       "      <td>NaN</td>\n",
       "    </tr>\n",
       "  </tbody>\n",
       "</table>\n",
       "<p>278858 rows × 3 columns</p>\n",
       "</div>"
      ],
      "text/plain": [
       "        User-ID                            Location   Age\n",
       "0             1                  nyc, new york, usa   NaN\n",
       "1             2           stockton, california, usa  18.0\n",
       "2             3     moscow, yukon territory, russia   NaN\n",
       "3             4           porto, v.n.gaia, portugal  17.0\n",
       "4             5  farnborough, hants, united kingdom   NaN\n",
       "...         ...                                 ...   ...\n",
       "278853   278854               portland, oregon, usa   NaN\n",
       "278854   278855  tacoma, washington, united kingdom  50.0\n",
       "278855   278856           brampton, ontario, canada   NaN\n",
       "278856   278857           knoxville, tennessee, usa   NaN\n",
       "278857   278858                dublin, n/a, ireland   NaN\n",
       "\n",
       "[278858 rows x 3 columns]"
      ]
     },
     "execution_count": 15,
     "metadata": {},
     "output_type": "execute_result"
    }
   ],
   "source": [
    "users_df"
   ]
  },
  {
   "cell_type": "code",
   "execution_count": 16,
   "metadata": {},
   "outputs": [],
   "source": [
    "# 3. Initial filtering to reduce noise\n",
    "\n",
    "# Filter books with at least 20 ratings\n",
    "book_counts = ratings_df['ISBN'].value_counts()\n",
    "books_to_keep = book_counts[book_counts >= 20].index\n",
    "\n",
    "# Filter users with at least 50 ratings\n",
    "user_counts = ratings_df['User-ID'].value_counts()\n",
    "users_to_keep = user_counts[user_counts >= 50].index\n",
    "\n",
    "# Apply filters\n",
    "ratings_df = ratings_df[\n",
    "    (ratings_df['ISBN'].isin(books_to_keep)) &\n",
    "    (ratings_df['User-ID'].isin(users_to_keep))\n",
    "]"
   ]
  },
  {
   "cell_type": "code",
   "execution_count": 17,
   "metadata": {},
   "outputs": [],
   "source": [
    "# 4. Merge ratings with books to get titles\n",
    "merged = ratings_df.merge(books_df[['ISBN', 'Book-Title']], on='ISBN', how='left')\n",
    "merged = merged.merge(users_df[['User-ID', 'Location', 'Age']], on='User-ID', how='left')"
   ]
  },
  {
   "cell_type": "code",
   "execution_count": 18,
   "metadata": {},
   "outputs": [
    {
     "name": "stdout",
     "output_type": "stream",
     "text": [
      "Number of books with 'Lord of the Rings' in the title: 7\n",
      "['The Hobbit : The Enchanting Prelude to The Lord of the Rings'\n",
      " 'The Fellowship of the Ring (The Lord of the Rings, Part 1)'\n",
      " 'The Two Towers (The Lord of the Rings, Part 2)'\n",
      " 'The Return of the King (The Lord of The Rings, Part 3)'\n",
      " 'The Return of the King (The Lord of the Rings, Part 3)'\n",
      " 'The Lord of the Rings (Movie Art Cover)'\n",
      " \"Bored of the Rings: A Parody of J.R.R. Tolkien's the Lord of the Rings\"]\n"
     ]
    }
   ],
   "source": [
    "# This block serves just for finding a book title\n",
    "\n",
    "keyword = \"Lord of the Rings\"  # example: search for titles containing \"ring\"\n",
    "\n",
    "matching_books = merged[merged['Book-Title'].str.contains(keyword, case=False, na=False)]\n",
    "\n",
    "# Show count\n",
    "print(f\"Number of books with '{keyword}' in the title: {matching_books['Book-Title'].nunique()}\")\n",
    "\n",
    "print(matching_books['Book-Title'].dropna().unique())\n"
   ]
  },
  {
   "cell_type": "code",
   "execution_count": 19,
   "metadata": {},
   "outputs": [],
   "source": [
    "# 5. Further filtering for collaborative filtering (reduce noise)\n",
    "\n",
    "min_reviews_books = 20\n",
    "min_reviews_users = 30\n",
    "\n",
    "valid_users = ratings_df['User-ID'].value_counts()[ratings_df['User-ID'].value_counts() >= min_reviews_users].index\n",
    "valid_books = ratings_df['ISBN'].value_counts()[ratings_df['ISBN'].value_counts() >= min_reviews_books].index\n",
    "\n",
    "\n",
    "filtered = merged[(merged['User-ID'].isin(valid_users)) & (merged['ISBN'].isin(valid_books))]\n",
    "\n",
    "top_users = filtered['User-ID'].value_counts().nlargest(5000).index\n",
    "top_books = filtered['ISBN'].value_counts().nlargest(5000).index\n",
    "\n",
    "filtered = filtered[(filtered['User-ID'].isin(top_users)) & (filtered['ISBN'].isin(top_books))]"
   ]
  },
  {
   "cell_type": "code",
   "execution_count": 20,
   "metadata": {},
   "outputs": [
    {
     "name": "stdout",
     "output_type": "stream",
     "text": [
      "User-book matrix shape: (2076, 4554)\n"
     ]
    }
   ],
   "source": [
    "# 6. Create user-book matrix (pivot table)\n",
    "\n",
    "user_book_matrix = filtered.pivot_table(index='User-ID', columns='ISBN', values='Book-Rating', fill_value=0)\n",
    "print(f\"User-book matrix shape: {user_book_matrix.shape}\")"
   ]
  },
  {
   "cell_type": "code",
   "execution_count": 21,
   "metadata": {},
   "outputs": [],
   "source": [
    "# 7. Compute cosine similarity between books\n",
    "\n",
    "user_book_sparse = csr_matrix(user_book_matrix.values)\n",
    "\n",
    "item_similarity = cosine_similarity(user_book_sparse.T, dense_output=False)\n",
    "\n",
    "item_similarity_df = pd.DataFrame(item_similarity.toarray(), index=user_book_matrix.columns, columns=user_book_matrix.columns)"
   ]
  },
  {
   "cell_type": "code",
   "execution_count": 22,
   "metadata": {},
   "outputs": [],
   "source": [
    "# 8. Create mapping between ISBN and book titles\n",
    "\n",
    "isbn_to_title = filtered[['ISBN', 'Book-Title']].drop_duplicates().set_index('ISBN')['Book-Title']\n",
    "title_to_isbn = {title: isbn for isbn, title in isbn_to_title.items()}"
   ]
  },
  {
   "cell_type": "code",
   "execution_count": 23,
   "metadata": {},
   "outputs": [],
   "source": [
    "# 9. Recommend Similar Books Function\n",
    "\n",
    "def recommend_similar_books(book_title, item_sim_df=item_similarity_df, isbn_to_title=isbn_to_title, title_to_isbn=title_to_isbn, top_n=5):\n",
    "    if book_title not in title_to_isbn:\n",
    "        return f\"Book '{book_title}' not found in dataset.\"\n",
    "\n",
    "    book_isbn = title_to_isbn[book_title]\n",
    "\n",
    "    if book_isbn not in item_sim_df.index:\n",
    "        return f\"Book ISBN '{book_isbn}' not found in similarity matrix.\"\n",
    "\n",
    "    sim_scores = item_sim_df.loc[book_isbn].drop(book_isbn).sort_values(ascending=False)\n",
    "    top_similar_isbns = sim_scores.head(top_n).index\n",
    "    recommended_titles = isbn_to_title.loc[top_similar_isbns].values.tolist()\n",
    "\n",
    "    return recommended_titles"
   ]
  },
  {
   "cell_type": "code",
   "execution_count": 24,
   "metadata": {},
   "outputs": [
    {
     "name": "stdout",
     "output_type": "stream",
     "text": [
      "Books similar to '1984':\n",
      "['Auntie Mayhem (Bed-And-Breakfast Mysteries (Paperback))', 'Lovely in Her Bones', 'The Color Purple', 'Liberty Falling (Anna Pigeon Mysteries (Paperback))', 'Woman of Independence']\n"
     ]
    }
   ],
   "source": [
    "# 10. Example usage\n",
    "\n",
    "book_input = \"1984\"\n",
    "print(f\"Books similar to '{book_input}':\")\n",
    "print(recommend_similar_books(book_input))"
   ]
  }
 ],
 "metadata": {
  "kernelspec": {
   "display_name": "Python 3",
   "language": "python",
   "name": "python3"
  },
  "language_info": {
   "codemirror_mode": {
    "name": "ipython",
    "version": 3
   },
   "file_extension": ".py",
   "mimetype": "text/x-python",
   "name": "python",
   "nbconvert_exporter": "python",
   "pygments_lexer": "ipython3",
   "version": "3.12.5"
  }
 },
 "nbformat": 4,
 "nbformat_minor": 2
}
